{
 "cells": [
  {
   "cell_type": "markdown",
   "id": "21b1b2d2",
   "metadata": {},
   "source": [
    "# finding probability based on Tournament Performance"
   ]
  },
  {
   "cell_type": "markdown",
   "id": "5d378818",
   "metadata": {},
   "source": [
    "### finding slop"
   ]
  },
  {
   "cell_type": "code",
   "execution_count": null,
   "id": "58d7a474",
   "metadata": {},
   "outputs": [],
   "source": [
    "def find_slop(players, round_completed):\n",
    "    for player in players:\n",
    "        player['slop'] = (player['updated_elo'] - player['base_elo']) / (round_completed - 0)        "
   ]
  },
  {
   "cell_type": "markdown",
   "id": "6e265308",
   "metadata": {},
   "source": [
    "### distributing k-factor"
   ]
  },
  {
   "cell_type": "code",
   "execution_count": null,
   "id": "c78fae34",
   "metadata": {},
   "outputs": [],
   "source": [
    "def k_factor_allocation(player):\n",
    "    # dividing players into three groups\n",
    "    # FINDING LIMITS\n",
    "    \n",
    "    # find lowest and highest base_elo\n",
    "    min_elo = players[\"base_elo\"].min()\n",
    "    max_elo = players[\"base_elo\"].max()\n",
    "    \n",
    "    W = (max_elo - min_elo) / 3\n",
    "    limit1 = min_elo + W\n",
    "    limit2 = min_elo + 2*W\n",
    "    limit3 = min_elo + 3*W\n",
    "    \n",
    "    for player in players:\n",
    "        if player[\"base_elo\"] <= limit1:\n",
    "            player[\"k_factor\"] = 40\n",
    "        else if player[\"base_elo\"] <= limit2:\n",
    "            player[\"k_factor\"] = 20\n",
    "        else if layer[\"base_elo\"] <= limit3:\n",
    "            player[\"k_factor\"] = 10\n",
    "        "
   ]
  },
  {
   "cell_type": "code",
   "execution_count": 7,
   "id": "418cb226",
   "metadata": {},
   "outputs": [],
   "source": [
    "def curr_tournament_performance():\n",
    "    for player in players:\n",
    "        player['curr_form'] = player['k_factor'] * player['slop']\n",
    "    # final slop, add a column for all players       "
   ]
  },
  {
   "cell_type": "markdown",
   "id": "09d0f2cd",
   "metadata": {},
   "source": [
    "### After actual match result "
   ]
  },
  {
   "cell_type": "code",
   "execution_count": null,
   "id": "52d41518",
   "metadata": {},
   "outputs": [],
   "source": [
    "# this is to update in Elo rating after each match\n",
    "def calculate_win_probability_for_a_match(player1, player2): \n",
    "    adjusted_elo1 = player1['updated_elo']\n",
    "    adjusted_elo2 = player2['updated_elo']\n",
    "    return 1 / (1 + 10 ** ((adjusted_elo2 - adjusted_elo1) / 400))\n",
    "\n",
    "def update_elo_ratings(winner, loser, draw=False):\n",
    "    \"\"\" Update Elo ratings and current form after a game \"\"\"\n",
    "    expected_win_winner = calculate_win_probability_for_a_match(winner, loser)\n",
    "    expected_win_loser = calculate_win_probability_for_a_match(loser, winner)\n",
    "\n",
    "    score_winner = 0.5 if draw else 1\n",
    "    score_loser = 0.5 if draw else 0\n",
    "\n",
    "    winner['updated_elo'] += player['k_factor'] * (score_winner - expected_win_winner)\n",
    "    loser['updated_elo'] += player['k_factor'] * (score_loser - expected_win_loser)"
   ]
  },
  {
   "cell_type": "markdown",
   "id": "8f408694",
   "metadata": {},
   "source": [
    "###  Finding win probability(tournament) for each player"
   ]
  },
  {
   "cell_type": "code",
   "execution_count": 9,
   "id": "d6d78a03",
   "metadata": {},
   "outputs": [],
   "source": [
    "#  This is to find chances in upcoming tournament matches\n",
    "def calculate_win_probability_for_tournament(players): \n",
    "    for player in players:\n",
    "        player['points'] = player['updated_elo'] + player['curr_form']\n",
    "        \n",
    "    chance_to_win_a_tournament(players)"
   ]
  },
  {
   "cell_type": "code",
   "execution_count": 11,
   "id": "4e196b92",
   "metadata": {},
   "outputs": [],
   "source": []
  },
  {
   "cell_type": "code",
   "execution_count": 13,
   "id": "b7ed0ac3",
   "metadata": {},
   "outputs": [],
   "source": [
    "def chance_to_win_a_tournament(players):\n",
    "    pass\n",
    "    # based on curr_tournament_performance output, add column\n",
    "    "
   ]
  },
  {
   "cell_type": "code",
   "execution_count": 14,
   "id": "3b01817e",
   "metadata": {},
   "outputs": [],
   "source": []
  },
  {
   "cell_type": "code",
   "execution_count": 15,
   "id": "f8c03c17",
   "metadata": {},
   "outputs": [],
   "source": [
    "def swiss_pairing(players):\n",
    "    \"\"\" Pair players using a simple Swiss system approach \"\"\"\n",
    "    sorted_players = sorted(players, key=lambda x: x['points'], reverse=True)\n",
    "    pairings = []\n",
    "    while sorted_players:\n",
    "        player1 = sorted_players.pop(0)\n",
    "        for i, player2 in enumerate(sorted_players):\n",
    "            if not 'opponents' in player1 or player2['name'] not in player1['opponents']:\n",
    "                player1.setdefault('opponents', []).append(player2['name'])\n",
    "                player2.setdefault('opponents', []).append(player1['name'])\n",
    "                pairings.append((player1, player2))\n",
    "                sorted_players.pop(i)\n",
    "                break\n",
    "    return pairings"
   ]
  },
  {
   "cell_type": "code",
   "execution_count": 16,
   "id": "4b42fe7f",
   "metadata": {},
   "outputs": [],
   "source": [
    "# curr_round_is_given as an input\n",
    "# curr_round = 2\n",
    "# def simulate_tournament():\n",
    "#      for round_number in range(curr_round, num_rounds + 1):\n",
    "#         pairings = swiss_pairing(players)\n",
    "#         for player1, player2 in pairings:\n",
    "#             simulate_game(player1, player2)\n"
   ]
  },
  {
   "cell_type": "code",
   "execution_count": 17,
   "id": "95f7f62c",
   "metadata": {},
   "outputs": [],
   "source": [
    "def simulate_game(player1, player2):\n",
    "    win_prob = calculate_win_probability_for_a_match(player1, player2)\n",
    "    pass\n"
   ]
  },
  {
   "cell_type": "code",
   "execution_count": null,
   "id": "45626d68",
   "metadata": {},
   "outputs": [],
   "source": [
    "def simulate_"
   ]
  },
  {
   "cell_type": "markdown",
   "id": "4c0c61df",
   "metadata": {},
   "source": [
    "### Updated code Dec 04"
   ]
  },
  {
   "cell_type": "code",
   "execution_count": null,
   "id": "d07bac83",
   "metadata": {},
   "outputs": [],
   "source": [
    "import random\n",
    "\n",
    "# Number of Players, Rounds, and Simulations\n",
    "num_players = 10\n",
    "num_total_rounds = 9\n",
    "rounds_completed = 5\n",
    "num_simulations = 1000\n",
    "k_factor = 10  # Higher K-factor for more responsive Elo rating updates\n",
    "\n",
    "# Initialize Players with Elo ratings and initial tournament points\n",
    "initial_points = [4, 3, 2.5, 2, 1.5, 1, 1, 0.5, 0, 0]\n",
    "initial_elo = [random.randint(1200, 2000) for i in range(num_players)]\n",
    "\n",
    "# calculate curr_form based on initial_points and k-factor\n",
    "\n",
    "\n",
    "players = [{'name': f'Player {i}', 'elo': initial_elo[i], 'simulation_points': initial_points[i], 'wins': 0, 'current_form': 0} for i in range(num_players)]\n",
    "\n",
    "for player in players:\n",
    "    print(f\"{player['name']} - Init Elo: {player['elo']:.2f}, Init Points: {player['simulation_points']}\")\n",
    "\n",
    "def calculate_win_probability(player1, player2, rounds_completed):\n",
    "    \"\"\" Calculate the probability of player1 winning against player2, considering current form and total points after x rounds \"\"\"\n",
    "    adjusted_elo1 = player1['elo'] + player1['current_form']\n",
    "    adjusted_elo2 = player2['elo'] + player2['current_form']\n",
    "\n",
    "    # Consider total points gained after x rounds\n",
    "    points_diff = player1['simulation_points'] - player2['simulation_points']\n",
    "\n",
    "    return 1 / (1 + 10 ** ((adjusted_elo2 - adjusted_elo1 + points_diff) / 400))\n",
    "\n",
    "def update_elo_ratings(winner, loser, draw=False):\n",
    "    \"\"\" Update Elo ratings and current form after a game \"\"\"\n",
    "    expected_win_winner = calculate_win_probability(winner, loser, rounds_completed)\n",
    "    expected_win_loser = calculate_win_probability(loser, winner, rounds_completed)\n",
    "\n",
    "    score_winner = 0.5 if draw else 1\n",
    "    score_loser = 0.5 if draw else 0\n",
    "\n",
    "    winner['elo'] += k_factor * (score_winner - expected_win_winner)\n",
    "    loser['elo'] += k_factor * (score_loser - expected_win_loser)\n",
    "\n",
    "    # Remove this calculation from here\n",
    "    winner['current_form'] += k_factor * 1.2 if not draw else -k_factor * 0.3\n",
    "    loser['current_form'] += -k_factor * 1.2 if not draw else k_factor * 0.5\n",
    "\n",
    "def simulate_game(player1, player2):\n",
    "    \"\"\" Simulate a game between two players \"\"\"\n",
    "    win_prob = calculate_win_probability(player1, player2, rounds_completed)\n",
    "    result = random.random()\n",
    "    if result < win_prob:\n",
    "        player1['simulation_points'] += 1  # Player 1 wins\n",
    "        update_elo_ratings(player1, player2)\n",
    "    elif result < win_prob + (1 - win_prob) / 2:\n",
    "        player1['simulation_points'] += 0.5\n",
    "        player2['simulation_points'] += 0.5  # Draw\n",
    "        update_elo_ratings(player1, player2, draw=True)\n",
    "    else:\n",
    "        player2['simulation_points'] += 1  # Player 2 wins\n",
    "        update_elo_ratings(player2, player1)\n",
    "\n",
    "# Simulate remaining rounds\n",
    "for round_number in range(rounds_completed + 1, num_total_rounds + 1):\n",
    "    pairings = swiss_pairing(players)\n",
    "    for player1, player2 in pairings:\n",
    "        simulate_game(player1, player2)\n",
    "    \n",
    "# Print final probabilities after completing the tournament\n",
    "print(\"\\nFinal Tournament Results after all simulations:\")\n",
    "for player in players:\n",
    "    winning_probability = player['wins'] / num_simulations\n",
    "    print(f\"{player['name']} - - Points: {player['simulation_points']} - - Final Elo: {player['elo']:.2f} - - Winning Probability: {winning_probability:.2f}\")\n"
   ]
  },
  {
   "cell_type": "markdown",
   "id": "b2f156fc",
   "metadata": {},
   "source": [
    "### Last hope"
   ]
  },
  {
   "cell_type": "code",
   "execution_count": null,
   "id": "ed03c8f7",
   "metadata": {},
   "outputs": [],
   "source": [
    "import random\n",
    "\n",
    "# Number of Players, Rounds, and Simulations\n",
    "num_players = 10\n",
    "num_total_rounds = 9\n",
    "rounds_completed = 5\n",
    "num_simulations = 1000\n",
    "k_factor = 10  # Higher K-factor for more responsive Elo rating updates\n",
    "\n",
    "# Initialize Players with initial tournament points\n",
    "initial_points = [4, 3, 2.5, 2, 1.5, 1, 1, 0.5, 0, 0]\n",
    "players = [{'name': f'Player {i}', 'elo': 1500, 'simulation_points': initial_points[i], 'wins': 0, 'current_form': 0} for i in range(num_players)]\n",
    "\n",
    "for player in players:\n",
    "    print(f\"{player['name']} - Init Elo: {player['elo']:.2f}, Init Points: {player['simulation_points']}\")\n",
    "\n",
    "# calculate curr_form based on initial_points and k-factor\n",
    "for player in players:\n",
    "    player['current_form'] = k_factor * (player['simulation_points'] - sum(initial_points) / num_players)\n",
    "\n",
    "def calculate_win_probability(player1, player2):\n",
    "    \"\"\" Calculate the probability of player1 winning against player2, considering current form and total points after x rounds \"\"\"\n",
    "    adjusted_elo1 = player1['elo'] + player1['current_form']\n",
    "    adjusted_elo2 = player2['elo'] + player2['current_form']\n",
    "\n",
    "    return 1 / (1 + 10 ** ((adjusted_elo2 - adjusted_elo1) / 400))\n",
    "\n",
    "def update_elo_ratings(winner, loser, draw=False):\n",
    "    \"\"\" Update Elo ratings and current form after a game \"\"\"\n",
    "    expected_win_winner = calculate_win_probability(winner, loser)\n",
    "    expected_win_loser = calculate_win_probability(loser, winner)\n",
    "\n",
    "    score_winner = 0.5 if draw else 1\n",
    "    score_loser = 0.5 if draw else 0\n",
    "\n",
    "    winner['elo'] += k_factor * (score_winner - expected_win_winner)\n",
    "    loser['elo'] += k_factor * (score_loser - expected_win_loser)\n",
    "    \n",
    "\n",
    "def simulate_game(player1, player2):\n",
    "    \"\"\" Simulate a game between two players \"\"\"\n",
    "    win_prob = calculate_win_probability(player1, player2)\n",
    "    result = random.random()\n",
    "    if result < win_prob:\n",
    "        player1['simulation_points'] += 1  # Player 1 wins\n",
    "        update_elo_ratings(player1, player2)\n",
    "    elif result < win_prob + (1 - win_prob) / 2:\n",
    "        player1['simulation_points'] += 0.5\n",
    "        player2['simulation_points'] += 0.5  # Draw\n",
    "        update_elo_ratings(player1, player2, draw=True)\n",
    "    else:\n",
    "        player2['simulation_points'] += 1  # Player 2 wins\n",
    "        update_elo_ratings(player2, player1)\n",
    "\n",
    "# Simulate remaining rounds\n",
    "for round_number in range(rounds_completed + 1, num_total_rounds + 1):\n",
    "    pairings = swiss_pairing(players)\n",
    "    for player1, player2 in pairings:\n",
    "        simulate_game(player1, player2)\n",
    "\n",
    "# Print final probabilities after completing the tournament\n",
    "print(\"\\nFinal Tournament Results after all simulations:\")\n",
    "for player in players:\n",
    "    winning_probability = player['wins'] / num_simulations\n",
    "    print(f\"{player['name']} - - Points: {player['simulation_points']} - - Final Elo: {player['elo']:.2f} - - Winning Probability: {winning_probability:.2f}\")\n"
   ]
  }
 ],
 "metadata": {
  "kernelspec": {
   "display_name": "Python 3 (ipykernel)",
   "language": "python",
   "name": "python3"
  },
  "language_info": {
   "codemirror_mode": {
    "name": "ipython",
    "version": 3
   },
   "file_extension": ".py",
   "mimetype": "text/x-python",
   "name": "python",
   "nbconvert_exporter": "python",
   "pygments_lexer": "ipython3",
   "version": "3.9.7"
  }
 },
 "nbformat": 4,
 "nbformat_minor": 5
}
